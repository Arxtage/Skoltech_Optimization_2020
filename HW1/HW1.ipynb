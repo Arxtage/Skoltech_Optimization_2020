{
 "cells": [
  {
   "cell_type": "markdown",
   "metadata": {},
   "source": [
    "# Homework 1\n",
    "### by Arman Tsaturyan (DS)"
   ]
  },
  {
   "cell_type": "markdown",
   "metadata": {},
   "source": [
    "## 1 Optimization problem example – 1 point\n",
    "\n",
    "Find the dimensions (height h and radius r) that will minimize the surface area of the metal to manufacture a circular cylindrical can of volume V ."
   ]
  },
  {
   "cell_type": "markdown",
   "metadata": {},
   "source": [
    "### Solution"
   ]
  },
  {
   "cell_type": "markdown",
   "metadata": {},
   "source": [
    "\\begin{array}{l}\n",
    "{V=\\pi r^{2} h=>h=\\frac{V}{\\pi r^{2}}} \\\\\n",
    "{S=2 \\pi r h+2 \\pi r^{2}=2 \\pi r(h+r)} \\\\\n",
    "{S=2 \\pi r\\left(r+\\frac{V}{\\pi r^{2}}\\right)=2 \\pi r^{2}+\\frac{2 V}{r}} \\\\\n",
    "{S'=4 \\pi r-\\frac{2 V}{r^{2}}=0} \\\\\n",
    "{2 \\pi r-\\frac{V}{r^{2}}=0} \\\\\n",
    "{2 \\pi r^{3}-V=0} \\\\\n",
    "{r^{3}=\\frac{V}{2 \\pi}=> r=\\sqrt[3]{\\frac{V}{2 \\pi}}} \\\\\n",
    "{h=\\frac{V}{\\pi\\left(\\frac{V}{2 \\pi}\\right)^{2 / 3}}=\\frac{V}{\\pi^{1 / 3}\\left(\\frac{V}{2}\\right)^{2 / 3}}}  \n",
    "\\end{array}"
   ]
  },
  {
   "cell_type": "markdown",
   "metadata": {},
   "source": [
    "## 2 Optimally conditions – 3 points\n",
    "Consider the unconstrained optimization problem to minimize the function,\n",
    "\\begin{aligned}\n",
    "&f\\left(x_{1}, x_{2}\\right)=\\frac{3}{2}\\left(x_{1}^{2}+x_{2}^{2}\\right)+(1+a) x_{1} x_{2}-\\left(x_{1}+x_{2}\\right)+b\\\\\n",
    "&a, b \\in \\mathbb{R}\n",
    "\\end{aligned}\n",
    "over $\\mathbb{R}^{2}$, where a and b are real-valued parameters. Find all values of a and b such that the problem has a unique optimal solution."
   ]
  },
  {
   "cell_type": "markdown",
   "metadata": {},
   "source": [
    "### Solution"
   ]
  },
  {
   "cell_type": "markdown",
   "metadata": {},
   "source": [
    "* Necessity:\n",
    "\\begin{array}{l}\n",
    "{\\frac{\\partial f}{\\partial x_{1}}=\\frac{3}{2} \\cdot 2 x_{1}+(1+a) x_{2}-1=0} \\\\\n",
    "{\\frac{\\partial f}{\\partial x_{2}}=\\frac{3}{2} \\cdot 2 x_{2}+(1+a) x_{1}-1=0}\n",
    "\\end{array}\n",
    "\n",
    "Doing elementary transformations with matrix of system:\n",
    "\\begin{equation}\n",
    "\\left(\\begin{array}{cc|c}\n",
    "{3} & {1+a} & {1} \\\\\n",
    "{1+a} & {3} & {1}\n",
    "\\end{array}\\right)\n",
    "\\sim\n",
    "\\end{equation}\n",
    "\n",
    "\\begin{equation}\n",
    "\\sim\n",
    "\\left(\\begin{array}{cc|c}\n",
    "{1} & {1+a} & {1 / 3} \\\\\n",
    "{1+a} & {3} & {1}\n",
    "\\end{array}\\right)\n",
    "\\sim\n",
    "\\end{equation}\n",
    "\n",
    "\\begin{equation}\n",
    "\\sim\n",
    "\\left(\\begin{array}{cc|c}{1} & {\\frac{1+a}{3}} & {1 / 3} \\\\\n",
    "{0} & {3-\\frac{(1+a)^2}{3}} & {1-\\frac{1+a}{3}}\n",
    "\\end{array}\\right)\n",
    "\\sim\n",
    "\\end{equation}\n",
    "\n",
    "\\begin{equation}\n",
    "\\sim\n",
    "\\left(\\begin{array}{cc|c}\n",
    "{1} & {0} & {\\frac{1}{3}-\\frac{(1 / 3(-a-1)+1)(a+1)}{9-(a+1)^{2}}} \\\\\n",
    "{0} & {3-\\frac{(1+a)^{2}}{3}} & {1-\\frac{1+a}{3}}\n",
    "\\end{array}\\right)\n",
    "\\end{equation}\n",
    "\n",
    "So, we get for $x_{1}$ and $x_{2}$:\n",
    "\\begin{equation}\n",
    "\\begin{aligned}\n",
    "&x_{1}=\\frac{1}{3}-\\frac{(1 / 3(-a-1)+1)(a+1)}{9-(a+1)^{2}}\\\\\n",
    "&x_{2}=\\frac{\\frac{1}{3}(-a-1)+1}{3-\\frac{1}{3}(a+1)^{2}}\n",
    "\\end{aligned}\n",
    "\\end{equation}\n",
    "\n",
    "We can see from denominator that if $a=2$ and $a=-4$ solution does not exist\n",
    "\n",
    "* Sufficiency:\n",
    "\\begin{equation}\n",
    "\\begin{aligned}\n",
    "&\\frac{\\partial^{2} f}{\\partial x_{1}^{2}}=3 \\quad \\frac{\\partial^2 f}{\\partial x_{2}^{2}} = 3\\\\\n",
    "&\\frac{\\partial^{2} f}{\\partial x_{1} x_{2}}=1+a\n",
    "\\end{aligned}\n",
    "\\end{equation}\n",
    "\n",
    "Using Sylvester's criterion:\n",
    "\\begin{equation}\n",
    "\\left|\\begin{array}{cc}\n",
    "{3} & {1+a} \\\\\n",
    "{1+a} & {3}\n",
    "\\end{array}\\right|\n",
    "\\end{equation}\n",
    "\n",
    "\\begin{equation}\n",
    "\\begin{aligned}\n",
    "&\\Delta_{1}=3>0\\\\\n",
    "&\\Delta_{2}=g-(1+a)^{2}\n",
    "\\end{aligned}\n",
    "\\end{equation}\n",
    "\n",
    "\\begin{equation}\n",
    "\\Delta_{2}>0 \\text { if } a \\in(-4,2)\n",
    "\\end{equation}\n",
    "\n",
    "So, optimal solution is unique if $a \\in(-4,2)$ and $\\forall b$, because the addition of constant does not affect the extremum."
   ]
  },
  {
   "cell_type": "markdown",
   "metadata": {},
   "source": [
    "## 3 Nelder Mead method – 8 points\n",
    "Implement Nelder-Mead method for the Mishra's Bird function\n",
    "$$\n",
    "f(x, y)=\\sin (y) e^{(1-\\cos (x))^{2}}+\\cos (x) e^{(1-\\sin (y))^{2}}+(x-y)^{2}\n",
    "$$\n",
    "subjected to, $(x+5)^{2}+(y+5)^{2}<25$\n",
    "1. To illustrate the behavior of the methods plot simplex (triangle) for every iteration. Provide the link to code repository.\n",
    "2. Demonstrate that the algorithm may converge to different points depending on the starting point. Report explicitly two distinct starting points $x^{0}$ and the corresponding $x^{*}$\n",
    "3. Examine the behavior of the method for various parameters $\\alpha, \\beta$ and $\\gamma .$ For one chosen $x^{0}$ show that the method may converge to different points. Report parameter values and $x^{*}$"
   ]
  },
  {
   "cell_type": "markdown",
   "metadata": {},
   "source": [
    "### Solution"
   ]
  },
  {
   "cell_type": "code",
   "execution_count": 1,
   "metadata": {},
   "outputs": [],
   "source": [
    "import numpy as np"
   ]
  },
  {
   "cell_type": "code",
   "execution_count": 395,
   "metadata": {
    "scrolled": true
   },
   "outputs": [],
   "source": [
    "class NelderMeadOpt:\n",
    "\n",
    "    def __init__(self, alpha=1, gamma=1.5, beta=0.5):\n",
    "        self.alpha = alpha\n",
    "        self.gamma = gamma\n",
    "        self.beta = beta\n",
    "\n",
    "    def optimize(self, dim, fn, e = 10**-8, max_iter=200):\n",
    "        \n",
    "        history_points=[]\n",
    "        minims = []\n",
    "        #points = np.random.rand(dim,dim-1) # if you want random points again use this!!!!!\n",
    "        points = np.array([[-3, -4], [-3, -4],[-3, -4]])\n",
    "        print(\"Starting points\",points)\n",
    "        \n",
    "        iter_count = 0\n",
    "        while iter_count < max_iter:\n",
    "            history_points.append(points)\n",
    "            \n",
    "            iter_count+=1\n",
    "            \n",
    "            results = []\n",
    "            for p in points:\n",
    "                p = list(p)\n",
    "                results.append(fn(*p))\n",
    "            results = np.array(results)\n",
    "            indexes = results.argsort()\n",
    "            results.sort()\n",
    "            points = points[indexes]\n",
    "            minims.append(results[0])\n",
    "            centroid = np.mean(points[:-1],axis=0)\n",
    "            xr = centroid + self.alpha * (centroid - points[-1])\n",
    "            score_r = fn(*list(xr))\n",
    "            if results[0] < score_r <results[-1]:\n",
    "                points[-1] = xr\n",
    "                continue\n",
    "            if score_r < results[0]:\n",
    "                xe = centroid + self.gamma * (-points[-1] - centroid)\n",
    "                score_e = fn(*list(xe))\n",
    "                if score_r > score_e :\n",
    "\n",
    "                    points[-1] = xe\n",
    "                    continue\n",
    "                else:\n",
    "                    points[-1] = xr\n",
    "                    continue\n",
    "            xc = centroid + self.beta * (points[-1] - centroid)\n",
    "            score_c = fn(*list(xc))\n",
    "            if score_c < results[-1]:\n",
    "\n",
    "                points[-1] = xc\n",
    "                continue\n",
    "\n",
    "        \n",
    "        return (history_points,results,minims)"
   ]
  },
  {
   "cell_type": "code",
   "execution_count": 266,
   "metadata": {},
   "outputs": [],
   "source": [
    "# visualize class\n",
    "# visualizer source: https://github.com/Williangalvani/nelderMeadVisualizer\n",
    "import matplotlib.pyplot as plt\n",
    "from matplotlib.colors import BoundaryNorm\n",
    "from matplotlib.ticker import MaxNLocator\n",
    "import matplotlib.animation as animation\n",
    "import matplotlib.colors as colors\n",
    "import matplotlib.cm as cmx\n",
    "\n",
    "class PlotFunctionAndTriangle:\n",
    "\n",
    "    def __init__(self, function, datapoints, animated=True):\n",
    "\n",
    "        self.dataPoints = datapoints\n",
    "        dx, dy = 0.05, 0.05\n",
    "\n",
    "        # generate 2 2d grids for the x & y bounds\n",
    "        y, x = np.mgrid[slice(datapoints[-1][-1][1]-1, datapoints[-1][-1][1]+1 + dy, dy),\n",
    "                        slice(datapoints[-1][-1][0]-1, datapoints[-1][-1][0]+1 + dx, dx)]\n",
    "\n",
    "        z = function(x, y)\n",
    "\n",
    "        # x and y are bounds, so z should be the value *inside* those bounds.\n",
    "        # Therefore, remove the last value from the z array.\n",
    "        z = z[:-1, :-1]\n",
    "        levels = MaxNLocator(nbins=10).tick_values(z.min(), z.max())\n",
    "\n",
    "        # pick the desired colormap, sensible levels, and define a normalization\n",
    "        # instance which takes data values and translates those into levels.\n",
    "        cmap = plt.get_cmap('gray')\n",
    "        norm = BoundaryNorm(levels, ncolors=cmap.N, clip=True)\n",
    "\n",
    "        self.fig, ax1 = plt.subplots(nrows=1)\n",
    "\n",
    "        # contours are *point* based plots, so convert our bound into point\n",
    "        # centers\n",
    "        cf = ax1.contour(x[:-1, :-1] + dx / 2.,\n",
    "                          y[:-1, :-1] + dy / 2., z, levels=levels,\n",
    "                          cmap=cmap)\n",
    "        plt.clabel(cf, inline=1, fontsize=10, fmt=\"%1.1f\")\n",
    "        #self.fig.colorbar(cf, ax=ax1)\n",
    "        ax1.set_title('Nelder-Mead on a parabolic function')\n",
    "\n",
    "\n",
    "        # adjust spacing between subplots so `ax1` title and `ax0` tick labels\n",
    "        # don't overlap\n",
    "        self.fig.tight_layout()\n",
    "\n",
    "        if animated:\n",
    "            initial = [[0, 1, 2], [0, 1, 2]]\n",
    "            self.line, = ax1.plot(*initial)\n",
    "\n",
    "            ani = animation.FuncAnimation(self.fig, self.animate, len(self.dataPoints),\n",
    "                                          interval=300, blit=True)\n",
    "            ani.save('animation.gif', writer='imagemagick', fps=3)\n",
    "        else:\n",
    "\n",
    "            jet = plt.get_cmap('gray')\n",
    "            cNorm = colors.Normalize(vmin=0, vmax=len(self.dataPoints))\n",
    "            scalarMap = cmx.ScalarMappable(norm=cNorm, cmap=jet)\n",
    "            print(scalarMap.get_clim())\n",
    "\n",
    "            for i, points in enumerate(self.dataPoints):\n",
    "                colorVal = scalarMap.to_rgba(i)\n",
    "                points = np.append(points, [points[0]], axis=0)\n",
    "                print(points.transpose())\n",
    "                #ax1.plot(*points.transpose(),color=colorVal)\n",
    "\n",
    "    def animate(self, i):\n",
    "        points = np.append(self.dataPoints[i], [self.dataPoints[i][0]], axis=0)\n",
    "        self.line.set_data(points.transpose())  # update the data\n",
    "        return self.line,"
   ]
  },
  {
   "cell_type": "markdown",
   "metadata": {},
   "source": [
    "### Experiment #1"
   ]
  },
  {
   "cell_type": "code",
   "execution_count": 198,
   "metadata": {},
   "outputs": [
    {
     "name": "stdout",
     "output_type": "stream",
     "text": [
      "Starting points [[0.48069917 0.35931452]\n",
      " [0.37431438 0.18978109]\n",
      " [0.27400781 0.72640185]]\n"
     ]
    }
   ],
   "source": [
    "opt = NelderMeadOpt()\n",
    "\n",
    "fn = lambda x,y: np.sin(y)*np.exp((1-np.cos(x))**2)+np.cos(x)*np.exp((1-np.sin(y))**2)+(x-y)**2\n",
    "res = opt.optimize(3,fn)"
   ]
  },
  {
   "cell_type": "code",
   "execution_count": 204,
   "metadata": {},
   "outputs": [
    {
     "name": "stdout",
     "output_type": "stream",
     "text": [
      "Minimum = -106.7645367492647 \n",
      "At point: [-3.1302468 -1.5821422]\n"
     ]
    }
   ],
   "source": [
    "print ('Minimum =',res[1][0],'\\n'\n",
    "       'At point:',res[0][-1][2])"
   ]
  },
  {
   "cell_type": "code",
   "execution_count": 242,
   "metadata": {},
   "outputs": [],
   "source": [
    "PlotFunctionAndTriangle(fn, res[0])"
   ]
  },
  {
   "cell_type": "markdown",
   "metadata": {},
   "source": [
    "### 1. To illustrate the behavior of the methods plot simplex (triangle) for every iteration. Provide the link to code repository.\n",
    "\n",
    "### Here we can see the evolution of symplex: \n"
   ]
  },
  {
   "cell_type": "markdown",
   "metadata": {},
   "source": [
    "![SegmentLocal](animation1.gif \"segment\")"
   ]
  },
  {
   "cell_type": "markdown",
   "metadata": {},
   "source": [
    "### 2. Demonstrate that the algorithm may converge to different points depending on the starting point. Report explicitly two distinct starting points $x^{0}$ and the corresponding $x^{*}$"
   ]
  },
  {
   "cell_type": "markdown",
   "metadata": {},
   "source": [
    "* We can see that in $Experiment #1$ we start at points $$[[0.48069917, 0.35931452]\\\\\n",
    " [0.37431438, 0.18978109]\\\\\n",
    " [0.27400781, 0.72640185]]$$\n",
    " \n",
    " And find the minimum $$minimum(f) = -106.7645367492647$$ at point $$x^{*} = [[-3.1302468 -1.5821422]]$$\n",
    " \n",
    " \n",
    " \n",
    " * In $Experiment #2$ (next cells) we start at points $$[[0.24435634, 0.46077922]\\\\\n",
    " [0.62970977, 0.07163914]\\\\\n",
    " [0.90126604, 0.62832927]]$$\n",
    " \n",
    " And find the minimum $$minimum(f) = 1.4870191272148545$$ at point $$x^{*} = [[0.9055189,  0.66525564]]$$\n",
    " \n",
    " #### So, the  the algorithm congerges depanding on starting points."
   ]
  },
  {
   "cell_type": "markdown",
   "metadata": {},
   "source": [
    "### Experiment #2"
   ]
  },
  {
   "cell_type": "code",
   "execution_count": 218,
   "metadata": {},
   "outputs": [
    {
     "name": "stdout",
     "output_type": "stream",
     "text": [
      "Starting points [[0.24435634 0.46077922]\n",
      " [0.62970977 0.07163914]\n",
      " [0.90126604 0.62832927]]\n"
     ]
    }
   ],
   "source": [
    "opt = NelderMeadOpt()\n",
    "\n",
    "fn = lambda x,y: np.sin(y)*np.exp((1-np.cos(x))**2)+np.cos(x)*np.exp((1-np.sin(y))**2)+(x-y)**2\n",
    "res = opt.optimize(3,fn)"
   ]
  },
  {
   "cell_type": "code",
   "execution_count": 228,
   "metadata": {},
   "outputs": [
    {
     "name": "stdout",
     "output_type": "stream",
     "text": [
      "Minimum = 1.4870191272148545 \n",
      "At point: [0.9055189  0.66525564]\n"
     ]
    }
   ],
   "source": [
    "print ('Minimum =',res[1][2],'\\n'\n",
    "       'At point:',res[0][-1][2])"
   ]
  },
  {
   "cell_type": "code",
   "execution_count": 241,
   "metadata": {},
   "outputs": [],
   "source": [
    "PlotFunctionAndTriangle(fn, res[0])"
   ]
  },
  {
   "cell_type": "markdown",
   "metadata": {},
   "source": [
    "![SegmentLocal](animation2.gif \"segment\")"
   ]
  },
  {
   "cell_type": "markdown",
   "metadata": {},
   "source": [
    "### 3. Examine the behavior of the method for various parameters $\\alpha, \\beta$ and $\\gamma .$ For one chosen $x^{0}$ show that the method may converge to different points. Report parameter values and $x^{*}$"
   ]
  },
  {
   "cell_type": "markdown",
   "metadata": {},
   "source": [
    "* Lets fix the starting $x0$ from $Experiment #1$ and change the parameters $\\alpha, \\beta$ and $\\gamma .$\n",
    "\n",
    "#### Obtained Results: \n",
    "$$\\alpha = 1, \\beta = 1.5, \\gamma = 0.5$$\n",
    "$$Minimum = -106.76453674926466 \\\\\n",
    "x^{*}= [-3.13024681, -1.58214218]$$\n",
    "\n",
    "$$\\alpha = 2, \\beta = 1.5, \\gamma = 0.5$$\n",
    "$$Minimum = -6.1692286883022245\\\\\n",
    "x^{*}= [-8.38943405, -6.76201125]$$\n",
    "\n",
    "$$\\alpha = 1, \\beta = 1, \\gamma = 0.5$$\n",
    "$$Minimum = 1.4870191265420762 \\\\\n",
    "x^{*}= [0.9055187,  0.66527763]$$\n",
    "\n",
    "$$\\alpha = 1, \\beta = 1.5, \\gamma = 1$$\n",
    "$$Minimum = 2.021366362396238 \\\\\n",
    "x^{*}= [0.37431438 0.18978109]$$\n"
   ]
  },
  {
   "cell_type": "code",
   "execution_count": 316,
   "metadata": {},
   "outputs": [
    {
     "name": "stdout",
     "output_type": "stream",
     "text": [
      "Starting points [[0.48069917 0.35931452]\n",
      " [0.37431438 0.18978109]\n",
      " [0.27400781 0.72640185]]\n",
      "Minimum = -106.76453674926466 \n",
      "At point: [-3.13024681 -1.58214218]\n"
     ]
    }
   ],
   "source": [
    "opt = NelderMeadOpt(alpha=1, gamma=1.5, beta=0.5)\n",
    "res = opt.optimize(3,fn)\n",
    "\n",
    "print ('Minimum =',res[1][2],'\\n'\n",
    "       'At point:',res[0][-1][2])"
   ]
  },
  {
   "cell_type": "code",
   "execution_count": 256,
   "metadata": {},
   "outputs": [
    {
     "name": "stdout",
     "output_type": "stream",
     "text": [
      "Starting points [[0.48069917 0.35931452]\n",
      " [0.37431438 0.18978109]\n",
      " [0.27400781 0.72640185]]\n",
      "Minimum = -6.1692286883022245 \n",
      "At point: [-8.38943405 -6.76201125]\n"
     ]
    }
   ],
   "source": [
    "opt = NelderMeadOpt(alpha=2, gamma=1.5, beta=0.5)\n",
    "res = opt.optimize(3,fn)\n",
    "\n",
    "print ('Minimum =',res[1][2],'\\n'\n",
    "       'At point:',res[0][-1][2])"
   ]
  },
  {
   "cell_type": "code",
   "execution_count": 265,
   "metadata": {},
   "outputs": [
    {
     "name": "stdout",
     "output_type": "stream",
     "text": [
      "Starting points [[0.48069917 0.35931452]\n",
      " [0.37431438 0.18978109]\n",
      " [0.27400781 0.72640185]]\n",
      "Minimum = 1.4870191265420762 \n",
      "At point: [0.9055187  0.66527763]\n"
     ]
    }
   ],
   "source": [
    "opt = NelderMeadOpt(alpha=1, gamma=1, beta=0.5)\n",
    "res = opt.optimize(3,fn)\n",
    "\n",
    "print ('Minimum =',res[1][2],'\\n'\n",
    "       'At point:',res[0][-1][2])"
   ]
  },
  {
   "cell_type": "code",
   "execution_count": 303,
   "metadata": {},
   "outputs": [
    {
     "name": "stdout",
     "output_type": "stream",
     "text": [
      "Starting points [[0.48069917 0.35931452]\n",
      " [0.37431438 0.18978109]\n",
      " [0.27400781 0.72640185]]\n",
      "Minimum = 2.021366362396238 \n",
      "At point: [0.37431438 0.18978109]\n"
     ]
    }
   ],
   "source": [
    "opt = NelderMeadOpt(alpha=1, gamma=1.5, beta=1)\n",
    "res = opt.optimize(3,fn)\n",
    "\n",
    "print ('Minimum =',res[1][2],'\\n'\n",
    "       'At point:',res[0][-1][2])"
   ]
  },
  {
   "cell_type": "markdown",
   "metadata": {},
   "source": [
    "We can see that method converges to different minimum depending on the values pf alpha, beta, gamma."
   ]
  },
  {
   "cell_type": "markdown",
   "metadata": {},
   "source": [
    "## 4 Coordinate descend – 6 points\n",
    "Implement coordinate descend for $x_0$ and f from Task 3. Compare the number of function evaluations (Oracle calls) for Nelder Mead algorithm and Coordinate descend. Report parameters of the algorithm. Provide the link to code repository. Make a conclusion."
   ]
  },
  {
   "cell_type": "markdown",
   "metadata": {},
   "source": [
    "### Solution"
   ]
  },
  {
   "cell_type": "code",
   "execution_count": 417,
   "metadata": {},
   "outputs": [],
   "source": [
    "def coordinate_descend_step(x0, oracle, k, gamma = 0.01, alpha = 0.01):\n",
    "    n = x0.size\n",
    "    i = k % n\n",
    "    h = np.zeros_like(x0)\n",
    "    h[i] = 1\n",
    "    x = x0 - gamma*(oracle(x0[0] + alpha*h[0],x0[1] + alpha*h[1]) - oracle(x0[0],x0[1]))/alpha*h\n",
    "    return x, k+1, alpha/2"
   ]
  },
  {
   "cell_type": "code",
   "execution_count": 431,
   "metadata": {},
   "outputs": [],
   "source": [
    "x0 = np.array([0.37431438, 0.18978109])\n",
    "Function = []\n",
    "Function.append(fn(x0[0],x0[1]))\n",
    "x_next, k, alpha = coordinate_descend_step(x0, fn, 0)\n",
    "Function.append(fn(x_next[0],x_next[1]))\n",
    "while np.linalg.norm(x_next - x0) > 1e-3:\n",
    "    x0 = x_next\n",
    "    x_next, k, alpha = coordinate_descend_step(x0, fn, k, alpha)\n",
    "    Function.append(fn(x_next[0],x_next[1]))"
   ]
  },
  {
   "cell_type": "code",
   "execution_count": 432,
   "metadata": {},
   "outputs": [
    {
     "data": {
      "text/plain": [
       "Text(0.5, 0, 'iter')"
      ]
     },
     "execution_count": 432,
     "metadata": {},
     "output_type": "execute_result"
    },
    {
     "data": {
      "image/png": "[encoded data removed]",
      "text/plain": [
       "<Figure size 432x288 with 1 Axes>"
      ]
     },
     "metadata": {
      "needs_background": "light"
     },
     "output_type": "display_data"
    }
   ],
   "source": [
    "plt.plot(Function)\n",
    "plt.title('Convergence of Coordinate Descend')\n",
    "plt.xlabel('iter')"
   ]
  },
  {
   "cell_type": "markdown",
   "metadata": {},
   "source": [
    "If the initial point is chosen well, than the number of oracle calls in Coordinate Descend is less than in Nelder Mead method, but coordinate descend often does not converge."
   ]
  },
  {
   "cell_type": "markdown",
   "metadata": {},
   "source": [
    "### We can see that Coordinate Descend got stuck in local minimum from initial point, which is an obvious con of this method compared with Nelder Mead method, which has at least three points in initial simplex which allows it to avoid local minimas better."
   ]
  },
  {
   "cell_type": "code",
   "execution_count": null,
   "metadata": {},
   "outputs": [],
   "source": []
  }
 ],
 "metadata": {
  "kernelspec": {
   "display_name": "Python 3",
   "language": "python",
   "name": "python3"
  },
  "language_info": {
   "codemirror_mode": {
    "name": "ipython",
    "version": 3
   },
   "file_extension": ".py",
   "mimetype": "text/x-python",
   "name": "python",
   "nbconvert_exporter": "python",
   "pygments_lexer": "ipython3",
   "version": "3.7.6"
  }
 },
 "nbformat": 4,
 "nbformat_minor": 2
}
